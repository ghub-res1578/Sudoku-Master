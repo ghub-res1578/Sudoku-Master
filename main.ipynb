{
 "cells": [
  {
   "cell_type": "code",
   "execution_count": 2,
   "id": "9d6b9e70",
   "metadata": {},
   "outputs": [
    {
     "ename": "ModuleNotFoundError",
     "evalue": "No module named 'simulation'",
     "output_type": "error",
     "traceback": [
      "\u001b[0;31m---------------------------------------------------------------------------\u001b[0m",
      "\u001b[0;31mModuleNotFoundError\u001b[0m                       Traceback (most recent call last)",
      "Cell \u001b[0;32mIn[2], line 3\u001b[0m\n\u001b[1;32m      1\u001b[0m \u001b[38;5;28;01mimport\u001b[39;00m \u001b[38;5;21;01mos\u001b[39;00m\n\u001b[1;32m      2\u001b[0m \u001b[38;5;28;01mimport\u001b[39;00m \u001b[38;5;21;01mmatplotlib\u001b[39;00m\u001b[38;5;21;01m.\u001b[39;00m\u001b[38;5;21;01mpyplot\u001b[39;00m \u001b[38;5;28;01mas\u001b[39;00m \u001b[38;5;21;01mplt\u001b[39;00m\n\u001b[0;32m----> 3\u001b[0m \u001b[38;5;28;01mfrom\u001b[39;00m \u001b[38;5;21;01msimulation\u001b[39;00m\u001b[38;5;21;01m.\u001b[39;00m\u001b[38;5;21;01mrun_simulation\u001b[39;00m \u001b[38;5;28;01mimport\u001b[39;00m run_simulation\n\u001b[1;32m      4\u001b[0m \u001b[38;5;28;01mfrom\u001b[39;00m \u001b[38;5;21;01msimulation\u001b[39;00m\u001b[38;5;21;01m.\u001b[39;00m\u001b[38;5;21;01mconfig\u001b[39;00m \u001b[38;5;28;01mimport\u001b[39;00m seedis, exc_values, inh_values, save_path\n\u001b[1;32m      6\u001b[0m \u001b[38;5;66;03m# Create directory if not exists\u001b[39;00m\n",
      "\u001b[0;31mModuleNotFoundError\u001b[0m: No module named 'simulation'"
     ]
    }
   ],
   "source": [
    "import os\n",
    "import matplotlib.pyplot as plt\n",
    "from simulation.run_simulation import run_simulation\n",
    "from simulation.config import seedis, exc_values, inh_values, save_path\n",
    "\n",
    "# Create directory if not exists\n",
    "os.makedirs(save_path, exist_ok=True)\n",
    "\n",
    "# Run simulations\n",
    "results = []\n",
    "for seedi in seedis:\n",
    "    for exc in exc_values:\n",
    "        for inh in inh_values:\n",
    "            neuron_ids, final_membrane_potentials, rate_mon = run_simulation(seedi, exc, inh, save_path)\n",
    "            results.append((seedi, exc, inh, final_membrane_potentials, rate_mon))\n",
    "\n",
    "# Plot results\n",
    "for seedi, exc, inh, final_membrane_potentials, rate_mon in results:\n",
    "    plt.figure()\n",
    "    plt.bar(range(len(final_membrane_potentials)), final_membrane_potentials)\n",
    "    plt.xlabel(\"Neuron ID\")\n",
    "    plt.ylabel(\"Membrane Potential\")\n",
    "    plt.title(f\"Seedi: {seedi}, Exc: {exc}, Inh: {inh}\")\n",
    "    plt.show()\n",
    "\n",
    "    # Plot population rate\n",
    "    from brian2tools import brian_plot\n",
    "    brian_plot(rate_mon)\n",
    "    plt.title(f\"Population Rate Monitor - Seedi: {seedi}, Exc: {exc}, Inh: {inh}\")\n",
    "    plt.show()\n"
   ]
  },
  {
   "cell_type": "code",
   "execution_count": null,
   "id": "73e079f5",
   "metadata": {},
   "outputs": [],
   "source": []
  }
 ],
 "metadata": {
  "kernelspec": {
   "display_name": "Python 3 (ipykernel)",
   "language": "python",
   "name": "python3"
  },
  "language_info": {
   "codemirror_mode": {
    "name": "ipython",
    "version": 3
   },
   "file_extension": ".py",
   "mimetype": "text/x-python",
   "name": "python",
   "nbconvert_exporter": "python",
   "pygments_lexer": "ipython3",
   "version": "3.10.12"
  }
 },
 "nbformat": 4,
 "nbformat_minor": 5
}
