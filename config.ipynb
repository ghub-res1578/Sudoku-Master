{
 "cells": [
  {
   "cell_type": "code",
   "execution_count": null,
   "id": "d63a504f",
   "metadata": {},
   "outputs": [],
   "source": [
    "# Parameters\n",
    "seedis = [3]\n",
    "exc_values = [0.002]\n",
    "inh_values = [0.006]\n",
    "save_path = \"data/spike_trains\"\n"
   ]
  }
 ],
 "metadata": {
  "kernelspec": {
   "display_name": "Python 3 (ipykernel)",
   "language": "python",
   "name": "python3"
  },
  "language_info": {
   "codemirror_mode": {
    "name": "ipython",
    "version": 3
   },
   "file_extension": ".py",
   "mimetype": "text/x-python",
   "name": "python",
   "nbconvert_exporter": "python",
   "pygments_lexer": "ipython3",
   "version": "3.10.12"
  }
 },
 "nbformat": 4,
 "nbformat_minor": 5
}
