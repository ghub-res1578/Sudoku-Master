{
 "cells": [
  {
   "cell_type": "code",
   "execution_count": 1,
   "id": "31e9e9db",
   "metadata": {},
   "outputs": [],
   "source": [
    "def getsubgrid(i, j):\n",
    "    subgrids = [[(0,0),(0,1),(0,2),(1,0),(1,1),(1,2),(2,0),(2,1),(2,2)],  # 0\n",
    "                [(0,3),(0,4),(0,5),(1,3),(1,4),(1,5),(2,3),(2,4),(2,5)],  # 1\n",
    "                [(0,6),(0,7),(0,8),(1,6),(1,7),(1,8),(2,6),(2,7),(2,8)],  # 2\n",
    "                [(3,0),(3,1),(3,2),(4,0),(4,1),(4,2),(5,0),(5,1),(5,2)],  # 3\n",
    "                [(3,3),(3,4),(3,5),(4,3),(4,4),(4,5),(5,3),(5,4),(5,5)],  # 4\n",
    "                [(3,6),(3,7),(3,8),(4,6),(4,7),(4,8),(5,6),(5,7),(5,8)],  # 5\n",
    "                [(6,0),(6,1),(6,2),(7,0),(7,1),(7,2),(8,0),(8,1),(8,2)],  # 6\n",
    "                [(6,3),(6,4),(6,5),(7,3),(7,4),(7,5),(8,3),(8,4),(8,5)],  # 7\n",
    "                [(6,6),(6,7),(6,8),(7,6),(7,7),(7,8),(8,6),(8,7),(8,8)]   # 8\n",
    "                ]\n",
    "    if i < 3:\n",
    "        if j < 3:\n",
    "            subgrid = 0\n",
    "        elif j < 6:\n",
    "            subgrid = 1\n",
    "        else:\n",
    "            subgrid = 2\n",
    "    elif i < 6:\n",
    "        if j < 3:\n",
    "            subgrid = 3\n",
    "        elif j < 6:\n",
    "            subgrid = 4\n",
    "        else:\n",
    "            subgrid = 5\n",
    "    else:\n",
    "        if j < 3:\n",
    "            subgrid = 6\n",
    "        elif j < 6:\n",
    "            subgrid = 7\n",
    "        else:\n",
    "            subgrid = 8\n",
    "    return subgrids[subgrid]\n",
    "\n",
    "def connectrowcol(i, j, sudo, matrix):\n",
    "    for y in range(9):\n",
    "        if y != i:\n",
    "            matrix[sudo[i, j], sudo[y, j]] = 1\n",
    "    for x in range(9):\n",
    "        if x != j:\n",
    "            matrix[sudo[i, j], sudo[i, x]] = 1\n",
    "\n",
    "def connectsub(i, j, sudo, matrix):\n",
    "    for (x, y) in getsubgrid(i, j):\n",
    "        if (x, y) != (i, j):\n",
    "            matrix[sudo[i, j], sudo[x, y]] = 1\n",
    "\n",
    "def inhibconnect(sudo):\n",
    "    matrix = np.zeros((81, 81))\n",
    "    for i in range(9):\n",
    "        for j in range(9):\n",
    "            connectrowcol(i, j, sudo, matrix)\n",
    "            connectsub(i, j, sudo, matrix)\n",
    "    return matrix\n"
   ]
  },
  {
   "cell_type": "code",
   "execution_count": null,
   "id": "a1976c41",
   "metadata": {},
   "outputs": [],
   "source": []
  }
 ],
 "metadata": {
  "kernelspec": {
   "display_name": "Python 3 (ipykernel)",
   "language": "python",
   "name": "python3"
  },
  "language_info": {
   "codemirror_mode": {
    "name": "ipython",
    "version": 3
   },
   "file_extension": ".py",
   "mimetype": "text/x-python",
   "name": "python",
   "nbconvert_exporter": "python",
   "pygments_lexer": "ipython3",
   "version": "3.10.12"
  }
 },
 "nbformat": 4,
 "nbformat_minor": 5
}
